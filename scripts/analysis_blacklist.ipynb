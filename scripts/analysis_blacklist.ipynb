{
 "cells": [
  {
   "cell_type": "code",
   "execution_count": 106,
   "metadata": {
    "collapsed": true
   },
   "outputs": [],
   "source": [
    "import json\n",
    "import numpy as np"
   ]
  },
  {
   "cell_type": "code",
   "execution_count": 107,
   "outputs": [],
   "source": [
    "blacklist_seccomp = json.load(open('../profiles/default_x86_extended_blacklist.json', 'r'))\n",
    "blacklist_block = blacklist_seccomp[\"syscalls\"][0][\"names\"]\n",
    "blacklist_log = blacklist_seccomp[\"syscalls\"][1][\"names\"]\n",
    "\n",
    "def load_from_file(key):\n",
    "    res = []\n",
    "    # append runs from ycsb\n",
    "    if key in ['mongo', 'redis', 'postgres', 'cassandra', 'memcache']:\n",
    "        for workload in ['a', 'b', 'f']:\n",
    "            res.append(json.load(open('../results/ycsb/{}_{}.json'.format(key,workload), 'r')))\n",
    "\n",
    "    # append runs from cloudSuite webServing\n",
    "    if key in ['elgg', 'memcache', 'mariadb']:\n",
    "        for workload in ['', '_run', '_manual']:\n",
    "            res.append(json.load(open('../results/cloudsuite/webServing_{}{}.json'.format(key,workload), 'r')))\n",
    "\n",
    "    # append runs from cloudSuite dataServing\n",
    "    if key == 'cassandra':\n",
    "        for workload in ['', '_load']:\n",
    "            res.append(json.load(open('../results/cloudsuite/dataServing{}.json'.format(workload), 'r')))\n",
    "\n",
    "    return res\n",
    "\n",
    "def get_blocked_by(syscall_arr, compare_list):\n",
    "    blocked_arr = []\n",
    "\n",
    "    for syscall in syscall_arr:\n",
    "        if syscall in compare_list:\n",
    "            blocked_arr.append({syscall : syscall_arr[syscall]})\n",
    "    return blocked_arr\n",
    "\n",
    "def get_blocked_by_blacklist(syscall_arr):\n",
    "    return get_blocked_by(syscall_arr, blacklist_block)\n",
    "\n",
    "def get_logged_by_blacklist(syscall_arr):\n",
    "    return get_blocked_by(syscall_arr, blacklist_log)"
   ],
   "metadata": {
    "collapsed": false
   }
  },
  {
   "cell_type": "code",
   "execution_count": 108,
   "outputs": [],
   "source": [
    "captures = load_from_file('postgres')\n"
   ],
   "metadata": {
    "collapsed": false
   }
  },
  {
   "cell_type": "code",
   "execution_count": 109,
   "outputs": [
    {
     "name": "stdout",
     "output_type": "stream",
     "text": [
      "3 blocked : [{'clone': 56}, {'sched_getaffinity': 1}, {'sched_yield': 5755}]\n",
      "10 logged : [{'setsid': 21}, {'execve': 45}, {'umask': 24}, {'fchmodat': 4}, {'setgroups': 5}, {'setgid': 1}, {'setuid': 1}, {'getpgrp': 1}, {'chmod': 7}, {'prctl': 110}]\n",
      "-----------------\n",
      "3 blocked : [{'clone': 58}, {'sched_getaffinity': 1}, {'sched_yield': 2465}]\n",
      "10 logged : [{'execve': 47}, {'umask': 26}, {'fchmodat': 4}, {'setgroups': 5}, {'setgid': 1}, {'setuid': 1}, {'getpgrp': 1}, {'prctl': 111}, {'chmod': 7}, {'setsid': 22}]\n",
      "-----------------\n",
      "3 blocked : [{'clone': 67}, {'sched_getaffinity': 1}, {'sched_yield': 3376}]\n",
      "10 logged : [{'setsid': 31}, {'execve': 46}, {'umask': 26}, {'fchmodat': 4}, {'setgroups': 5}, {'setgid': 1}, {'setuid': 1}, {'getpgrp': 1}, {'prctl': 120}, {'chmod': 7}]\n",
      "-----------------\n"
     ]
    }
   ],
   "source": [
    "aggregated_blocked = {}\n",
    "\n",
    "for i in range(0, len(captures)):\n",
    "    b_list = get_blocked_by_blacklist(captures[i])\n",
    "    l_list = get_logged_by_blacklist(captures[i])\n",
    "\n",
    "    print(\"{} blocked : {}\".format(len(b_list), b_list))\n",
    "    print(\"{} logged : {}\".format(len(l_list), l_list))\n",
    "    print(\"-----------------\")\n",
    "    for j in range(0, len(b_list)):\n",
    "        s = list(b_list[j].keys())[0]\n",
    "\n",
    "        if not (s in aggregated_blocked):\n",
    "            aggregated_blocked[s] = 0\n",
    "        aggregated_blocked[s] += b_list[j][s]\n"
   ],
   "metadata": {
    "collapsed": false
   }
  },
  {
   "cell_type": "code",
   "execution_count": 110,
   "outputs": [
    {
     "name": "stdout",
     "output_type": "stream",
     "text": [
      "clone (mean) 60.333333333333336\n",
      "sched_getaffinity (mean) 1.0\n",
      "sched_yield (mean) 3865.3333333333335\n"
     ]
    }
   ],
   "source": [
    "for syscall in aggregated_blocked:\n",
    "    print('{} (mean) {}'.format(syscall, aggregated_blocked[syscall] / 3))"
   ],
   "metadata": {
    "collapsed": false
   }
  },
  {
   "cell_type": "code",
   "execution_count": 117,
   "outputs": [
    {
     "name": "stdout",
     "output_type": "stream",
     "text": [
      "{'execve': 3976, 'chmod': 128, 'prctl': 613756, 'setsid': 86, 'umask': 231, 'getpgrp': 7839, 'fchownat': 418, 'setgroups': 77, 'setgid': 44, 'setuid': 41, 'fchmodat': 12, 'capset': 3, 'chown': 9, 'setpgid': 9, 'fchown': 427}\n"
     ]
    }
   ],
   "source": [
    "# aggregate logged\n",
    "aggregated_logged = {}\n",
    "\n",
    "for capture_name in ['mongo', 'redis', 'postgres', 'cassandra', 'memcache', 'elgg', 'mariadb']:\n",
    "    caps = load_from_file(capture_name)\n",
    "\n",
    "    for cap in caps:\n",
    "        logged = get_logged_by_blacklist(cap)\n",
    "        for entity in logged:\n",
    "            syscall = list(entity.keys())[0]\n",
    "            amount = entity[syscall]\n",
    "\n",
    "            if not (syscall in aggregated_logged):\n",
    "                aggregated_logged[syscall] = 0\n",
    "\n",
    "            aggregated_logged[syscall] += amount\n",
    "\n",
    "print(aggregated_logged)"
   ],
   "metadata": {
    "collapsed": false
   }
  },
  {
   "cell_type": "code",
   "execution_count": null,
   "outputs": [],
   "source": [],
   "metadata": {
    "collapsed": false
   }
  }
 ],
 "metadata": {
  "kernelspec": {
   "display_name": "Python 3",
   "language": "python",
   "name": "python3"
  },
  "language_info": {
   "codemirror_mode": {
    "name": "ipython",
    "version": 2
   },
   "file_extension": ".py",
   "mimetype": "text/x-python",
   "name": "python",
   "nbconvert_exporter": "python",
   "pygments_lexer": "ipython2",
   "version": "2.7.6"
  }
 },
 "nbformat": 4,
 "nbformat_minor": 0
}
