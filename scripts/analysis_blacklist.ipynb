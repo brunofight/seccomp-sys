{
 "cells": [
  {
   "cell_type": "code",
   "execution_count": 1,
   "metadata": {
    "collapsed": true
   },
   "outputs": [],
   "source": [
    "import json\n",
    "import numpy as np"
   ]
  },
  {
   "cell_type": "code",
   "execution_count": 2,
   "outputs": [],
   "source": [
    "blacklist_seccomp = json.load(open('../profiles/default_x86_extended_blacklist.json', 'r'))\n",
    "blacklist_block = blacklist_seccomp[\"syscalls\"][0][\"names\"]\n",
    "blacklist_log = blacklist_seccomp[\"syscalls\"][1][\"names\"]\n",
    "\n",
    "def load_from_file(key):\n",
    "    res = []\n",
    "    # append runs from ycsb\n",
    "    if key in ['mongo', 'redis', 'postgres', 'cassandra', 'memcache']:\n",
    "        for workload in ['a', 'b', 'f']:\n",
    "            res.append(json.load(open('../results/ycsb/{}_{}.json'.format(key,workload), 'r')))\n",
    "\n",
    "    # append runs from cloudSuite webServing\n",
    "    if key in ['elgg', 'memcache', 'mariadb']:\n",
    "        for workload in ['', '_run', '_manual']:\n",
    "            res.append(json.load(open('../results/cloudsuite/webServing_{}{}.json'.format(key,workload), 'r')))\n",
    "\n",
    "    # append runs from cloudSuite dataServing\n",
    "    if key == 'cassandra':\n",
    "        for workload in ['', '_load']:\n",
    "            res.append(json.load(open('../results/cloudsuite/dataServing{}.json'.format(workload), 'r')))\n",
    "\n",
    "    return res\n",
    "\n",
    "def get_blocked_by(syscall_arr, compare_list):\n",
    "    blocked_arr = []\n",
    "\n",
    "    for syscall in syscall_arr:\n",
    "        if syscall in compare_list:\n",
    "            blocked_arr.append({syscall : syscall_arr[syscall]})\n",
    "    return blocked_arr\n",
    "\n",
    "def get_blocked_by_blacklist(syscall_arr):\n",
    "    return get_blocked_by(syscall_arr, blacklist_block)\n",
    "\n",
    "def get_logged_by_blacklist(syscall_arr):\n",
    "    return get_blocked_by(syscall_arr, blacklist_log)"
   ],
   "metadata": {
    "collapsed": false
   }
  },
  {
   "cell_type": "code",
   "execution_count": 3,
   "outputs": [],
   "source": [
    "captures = load_from_file('mariadb')\n"
   ],
   "metadata": {
    "collapsed": false
   }
  },
  {
   "cell_type": "code",
   "execution_count": 4,
   "outputs": [
    {
     "name": "stdout",
     "output_type": "stream",
     "text": [
      "1 blocked : [{'restart_syscall': 34}]\n",
      "12 logged : [{'setpgid': 2}, {'chown': 1}, {'prctl': 108}, {'getpgrp': 2675}, {'execve': 1023}, {'umask': 12}, {'fchown': 135}, {'fchownat': 138}, {'chmod': 1}, {'setgroups': 1}, {'setgid': 1}, {'setuid': 1}]\n",
      "-----------------\n",
      "1 blocked : [{'restart_syscall': 137}]\n",
      "12 logged : [{'getpgrp': 2651}, {'execve': 1023}, {'chown': 1}, {'umask': 12}, {'fchownat': 138}, {'fchown': 135}, {'chmod': 1}, {'prctl': 108}, {'setgroups': 1}, {'setgid': 1}, {'setuid': 1}, {'setpgid': 2}]\n",
      "-----------------\n",
      "1 blocked : [{'restart_syscall': 19}]\n",
      "12 logged : [{'getpgrp': 2494}, {'fchown': 135}, {'fchownat': 138}, {'chmod': 1}, {'execve': 1017}, {'umask': 11}, {'prctl': 108}, {'setgroups': 1}, {'setgid': 1}, {'setuid': 1}, {'setpgid': 2}, {'chown': 1}]\n",
      "-----------------\n"
     ]
    }
   ],
   "source": [
    "aggregated_blocked = {}\n",
    "\n",
    "for i in range(0, len(captures)):\n",
    "    b_list = get_blocked_by_blacklist(captures[i])\n",
    "    l_list = get_logged_by_blacklist(captures[i])\n",
    "\n",
    "    print(\"{} blocked : {}\".format(len(b_list), b_list))\n",
    "    print(\"{} logged : {}\".format(len(l_list), l_list))\n",
    "    print(\"-----------------\")\n",
    "    for j in range(0, len(b_list)):\n",
    "        s = list(b_list[j].keys())[0]\n",
    "\n",
    "        if not (s in aggregated_blocked):\n",
    "            aggregated_blocked[s] = 0\n",
    "        aggregated_blocked[s] += b_list[j][s]\n"
   ],
   "metadata": {
    "collapsed": false
   }
  },
  {
   "cell_type": "code",
   "execution_count": 5,
   "outputs": [
    {
     "name": "stdout",
     "output_type": "stream",
     "text": [
      "restart_syscall (mean) 63.333333333333336\n"
     ]
    }
   ],
   "source": [
    "for syscall in aggregated_blocked:\n",
    "    print('{} (mean) {}'.format(syscall, aggregated_blocked[syscall] / 3))"
   ],
   "metadata": {
    "collapsed": false
   }
  },
  {
   "cell_type": "code",
   "execution_count": 6,
   "outputs": [
    {
     "name": "stdout",
     "output_type": "stream",
     "text": [
      "{'execve': 3976, 'chmod': 128, 'prctl': 613756, 'setsid': 86, 'umask': 231, 'getpgrp': 7839, 'fchownat': 418, 'setgroups': 77, 'setgid': 44, 'setuid': 41, 'fchmodat': 12, 'capset': 3, 'chown': 9, 'setpgid': 9, 'fchown': 427}\n"
     ]
    }
   ],
   "source": [
    "# aggregate logged\n",
    "aggregated_logged = {}\n",
    "\n",
    "for capture_name in ['mongo', 'redis', 'postgres', 'cassandra', 'memcache', 'elgg', 'mariadb']:\n",
    "    caps = load_from_file(capture_name)\n",
    "\n",
    "    for cap in caps:\n",
    "        logged = get_logged_by_blacklist(cap)\n",
    "        for entity in logged:\n",
    "            syscall = list(entity.keys())[0]\n",
    "            amount = entity[syscall]\n",
    "\n",
    "            if not (syscall in aggregated_logged):\n",
    "                aggregated_logged[syscall] = 0\n",
    "\n",
    "            aggregated_logged[syscall] += amount\n",
    "\n",
    "print(aggregated_logged)"
   ],
   "metadata": {
    "collapsed": false
   }
  },
  {
   "cell_type": "code",
   "execution_count": 6,
   "outputs": [],
   "source": [],
   "metadata": {
    "collapsed": false
   }
  }
 ],
 "metadata": {
  "kernelspec": {
   "display_name": "Python 3",
   "language": "python",
   "name": "python3"
  },
  "language_info": {
   "codemirror_mode": {
    "name": "ipython",
    "version": 2
   },
   "file_extension": ".py",
   "mimetype": "text/x-python",
   "name": "python",
   "nbconvert_exporter": "python",
   "pygments_lexer": "ipython2",
   "version": "2.7.6"
  }
 },
 "nbformat": 4,
 "nbformat_minor": 0
}
