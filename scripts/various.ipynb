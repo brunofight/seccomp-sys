{
 "cells": [
  {
   "cell_type": "code",
   "execution_count": 2,
   "metadata": {
    "collapsed": true
   },
   "outputs": [],
   "source": [
    "import numpy as np"
   ]
  },
  {
   "cell_type": "code",
   "execution_count": 11,
   "outputs": [
    {
     "name": "stdout",
     "output_type": "stream",
     "text": [
      "2114060288\n",
      "268435456\n"
     ]
    }
   ],
   "source": [
    "# https://github.com/torvalds/linux/blob/master/include/uapi/linux/sched.h\n",
    "\n",
    "clone_newns = 0x00020000\n",
    "clone_newcgroup = 0x02000000\n",
    "clone_newuts = 0x04000000\n",
    "clone_newipc = 0x08000000\n",
    "clone_newuser = 0x10000000\n",
    "clone_newpid = 0x20000000\n",
    "clone_newnet = 0x40000000\n",
    "\n",
    "print(clone_newns ^ clone_newcgroup ^\n",
    "      clone_newuts ^ clone_newipc ^\n",
    "      clone_newuser ^ clone_newpid ^ clone_newnet)\n",
    "\n",
    "print(clone_newuser)\n"
   ],
   "metadata": {
    "collapsed": false
   }
  },
  {
   "cell_type": "code",
   "execution_count": 5,
   "outputs": [
    {
     "name": "stdout",
     "output_type": "stream",
     "text": [
      "2180907007\n",
      "2180907007\n"
     ]
    }
   ],
   "source": [
    "# In blacklist:\n",
    "print(~ 2114060288 + 2**32)\n",
    "print( 0x000000ff ^ 0x00000100 ^ 0x00000200 ^ 0x00000400 ^ 0x00000800 ^ 0x00001000 ^ 0x00002000 ^ 0x00004000 ^ 0x00008000 ^ 0x00010000 ^ 0x00040000 ^ 0x00080000\t^ 0x00100000 ^ 0x00200000 ^ 0x00400000 ^ 0x00800000 ^ 0x01000000 ^ 0x80000000\t)"
   ],
   "metadata": {
    "collapsed": false
   }
  },
  {
   "cell_type": "code",
   "execution_count": 4,
   "outputs": [],
   "source": [],
   "metadata": {
    "collapsed": false
   }
  }
 ],
 "metadata": {
  "kernelspec": {
   "display_name": "Python 3",
   "language": "python",
   "name": "python3"
  },
  "language_info": {
   "codemirror_mode": {
    "name": "ipython",
    "version": 2
   },
   "file_extension": ".py",
   "mimetype": "text/x-python",
   "name": "python",
   "nbconvert_exporter": "python",
   "pygments_lexer": "ipython2",
   "version": "2.7.6"
  }
 },
 "nbformat": 4,
 "nbformat_minor": 0
}
