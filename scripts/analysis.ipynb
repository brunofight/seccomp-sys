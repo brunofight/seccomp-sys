{
 "cells": [
  {
   "cell_type": "code",
   "execution_count": 120,
   "metadata": {
    "collapsed": true
   },
   "outputs": [],
   "source": [
    "import numpy as np\n",
    "import json"
   ]
  },
  {
   "cell_type": "code",
   "execution_count": 121,
   "outputs": [],
   "source": [
    "def load_from_file(key):\n",
    "    res = []\n",
    "    # append runs from ycsb\n",
    "    if key in ['mongo', 'redis', 'postgres', 'cassandra', 'memcache']:\n",
    "        for workload in ['a', 'b', 'f']:\n",
    "            res.append(list(json.load(open('../results/ycsb/{}_{}.json'.format(key,workload), 'r')).keys()))\n",
    "\n",
    "    # append runs from cloudSuite webServing\n",
    "    if key in ['elgg', 'memcache', 'mariadb']:\n",
    "        for workload in ['', '_run', '_manual']:\n",
    "            res.append(list(json.load(open('../results/cloudsuite/webServing_{}{}.json'.format(key,workload), 'r')).keys()))\n",
    "\n",
    "    # append runs from cloudSuite dataServing\n",
    "    if key == 'cassandra':\n",
    "        for workload in ['', '_load']:\n",
    "            res.append(list(json.load(open('../results/cloudsuite/dataServing{}.json'.format(workload), 'r')).keys()))\n",
    "\n",
    "    return res"
   ],
   "metadata": {
    "collapsed": false
   }
  },
  {
   "cell_type": "code",
   "execution_count": 122,
   "outputs": [
    {
     "name": "stdout",
     "output_type": "stream",
     "text": [
      "3\n"
     ]
    }
   ],
   "source": [
    "result = load_from_file('mariadb')\n",
    "print(len(result))"
   ],
   "metadata": {
    "collapsed": false
   }
  },
  {
   "cell_type": "code",
   "execution_count": 123,
   "outputs": [
    {
     "name": "stdout",
     "output_type": "stream",
     "text": [
      "0 : []\n",
      "0 : []\n",
      "1 : ['sendmmsg']\n"
     ]
    }
   ],
   "source": [
    "# calculate the capture differences\n",
    "# the order of prints is always ycsb_a, ycsb_b, ycsb_c, cloudsuite_user&run, cloudsuite_run, cloudsuite_manual\n",
    "\n",
    "superset = []\n",
    "missing_syscalls = []\n",
    "missing_syscalls_names = []\n",
    "for j in range(0,len(result)):\n",
    "    superset = np.union1d(superset, result[j])\n",
    "\n",
    "for i in range(0,len(result)):\n",
    "    dif = np.setdiff1d(superset, result[i])\n",
    "    print('{} : {}'.format(len(dif),str(dif)))\n",
    "    missing_syscalls.append(len(dif))\n",
    "    missing_syscalls_names.append(dif)"
   ],
   "metadata": {
    "collapsed": false
   }
  },
  {
   "cell_type": "code",
   "execution_count": 124,
   "outputs": [],
   "source": [
    "syscalls_with_groups = json.load(open('../resources/syscalls_with_groups.json', 'r'))\n",
    "groups_with_syscalls = json.load(open('../resources/groups_with_syscalls.json', 'r'))\n",
    "\n",
    "def groups(capture):\n",
    "    g = []\n",
    "    for syscall in capture:\n",
    "        group_name = syscalls_with_groups[syscall]\n",
    "        if not (group_name in g):\n",
    "            g.append(group_name)\n",
    "    return g\n",
    "\n",
    "def syscalls(group_arr):\n",
    "    syscall_arr = []\n",
    "    for group in group_arr:\n",
    "        for s in groups_with_syscalls[group]:\n",
    "            syscall_arr.append(s)\n",
    "    return syscall_arr"
   ],
   "metadata": {
    "collapsed": false
   }
  },
  {
   "cell_type": "code",
   "execution_count": 125,
   "outputs": [
    {
     "name": "stdout",
     "output_type": "stream",
     "text": [
      "103 traced calls\n",
      "54 groups\n",
      "110 additional Syscalls through extrapolation\n",
      "0 : []\n",
      "Groups blocking additional Syscalls: []\n",
      "-----------------\n",
      "103 traced calls\n",
      "54 groups\n",
      "110 additional Syscalls through extrapolation\n",
      "0 : []\n",
      "Groups blocking additional Syscalls: []\n",
      "-----------------\n",
      "102 traced calls\n",
      "54 groups\n",
      "111 additional Syscalls through extrapolation\n",
      "0 : []\n",
      "Groups blocking additional Syscalls: ['Socket Send']\n",
      "-----------------\n"
     ]
    }
   ],
   "source": [
    "mined_syscalls = []\n",
    "additional_syscalls = []\n",
    "\n",
    "# calculate the capture differences with extrapolated syscalls from group\n",
    "for i in range(0,len(result)):\n",
    "    extrapolated = syscalls(groups(result[i]))\n",
    "\n",
    "    print('{} traced calls'.format(len(result[i])))\n",
    "    print('{} groups'.format(len(groups(result[i]))))\n",
    "    additional_syscalls.append(len(extrapolated) - len(result[i]))\n",
    "    print('{} additional Syscalls through extrapolation'.format(len(extrapolated) - len(result[i])))\n",
    "\n",
    "    dif = np.setdiff1d(superset, extrapolated)\n",
    "    print('{} : {}'.format(len(dif),str(dif)))\n",
    "\n",
    "\n",
    "    print('Groups blocking additional Syscalls: {}'.format(groups(np.setdiff1d(missing_syscalls_names[i], dif))))\n",
    "    mined_syscalls.append(missing_syscalls[i] - len(dif))\n",
    "    print('-----------------')\n"
   ],
   "metadata": {
    "collapsed": false
   }
  },
  {
   "cell_type": "code",
   "execution_count": 126,
   "outputs": [
    {
     "name": "stdout",
     "output_type": "stream",
     "text": [
      "1.0\n",
      "1.0\n",
      "0.4353182\n"
     ]
    }
   ],
   "source": [
    "# Calculate Propability of hitting additional amount of mined syscalls through random selection\n",
    "# as opposed to using groups\n",
    "\n",
    "for i in range(0, len(result)):\n",
    "    f = np.random.hypergeometric(ngood= missing_syscalls[i],\n",
    "                                 nbad= 357 - len(result[i]) - missing_syscalls[i],\n",
    "                                 nsample= additional_syscalls[i],\n",
    "                                 size=10000000)\n",
    "\n",
    "    print(sum(f >= mined_syscalls[i]) / 10000000.)\n",
    "\n"
   ],
   "metadata": {
    "collapsed": false
   }
  },
  {
   "cell_type": "code",
   "execution_count": 126,
   "outputs": [],
   "source": [],
   "metadata": {
    "collapsed": false
   }
  }
 ],
 "metadata": {
  "kernelspec": {
   "display_name": "Python 3",
   "language": "python",
   "name": "python3"
  },
  "language_info": {
   "codemirror_mode": {
    "name": "ipython",
    "version": 2
   },
   "file_extension": ".py",
   "mimetype": "text/x-python",
   "name": "python",
   "nbconvert_exporter": "python",
   "pygments_lexer": "ipython2",
   "version": "2.7.6"
  }
 },
 "nbformat": 4,
 "nbformat_minor": 0
}
